{
 "cells": [
  {
   "cell_type": "markdown",
   "metadata": {
    "collapsed": true
   },
   "source": [
    "# Answering Business Questions Using SQL\n",
    "\n",
    "## Introduction\n",
    "\n",
    "This is my 10th DataQuest projoect in the Data Scientist Pathway\n",
    "\n",
    "This is the 2nd project in Step 4 - Working with Data Sources\n",
    "\n",
    "The purpose of this project is to analyze business questions using SQL. The project will be using the Chinook Database, which is a sampele database representing a digital media store namely for music. In contains information on the media such as track and albums name, as wells as invoices and customer information.\n",
    "\n",
    "Below is an image of the entire database structure:\n",
    "\n",
    "<img src=\"chinook.jpg\">\n",
    "\n",
    "Tools I'll be using include:\n",
    "\n",
    "- Python 3\n",
    "- SQLite3\n",
    "- Numpy, Pandas, Matplotlib\n",
    "\n",
    "First, I'll import the necessary packages and do some set-up in python to make working with SQL easier"
   ]
  },
  {
   "cell_type": "code",
   "execution_count": 1,
   "metadata": {
    "collapsed": false
   },
   "outputs": [
    {
     "data": {
      "text/html": [
       "<div>\n",
       "<style scoped>\n",
       "    .dataframe tbody tr th:only-of-type {\n",
       "        vertical-align: middle;\n",
       "    }\n",
       "\n",
       "    .dataframe tbody tr th {\n",
       "        vertical-align: top;\n",
       "    }\n",
       "\n",
       "    .dataframe thead th {\n",
       "        text-align: right;\n",
       "    }\n",
       "</style>\n",
       "<table border=\"1\" class=\"dataframe\">\n",
       "  <thead>\n",
       "    <tr style=\"text-align: right;\">\n",
       "      <th></th>\n",
       "      <th>name</th>\n",
       "      <th>type</th>\n",
       "    </tr>\n",
       "  </thead>\n",
       "  <tbody>\n",
       "    <tr>\n",
       "      <th>0</th>\n",
       "      <td>album</td>\n",
       "      <td>table</td>\n",
       "    </tr>\n",
       "    <tr>\n",
       "      <th>1</th>\n",
       "      <td>artist</td>\n",
       "      <td>table</td>\n",
       "    </tr>\n",
       "    <tr>\n",
       "      <th>2</th>\n",
       "      <td>customer</td>\n",
       "      <td>table</td>\n",
       "    </tr>\n",
       "    <tr>\n",
       "      <th>3</th>\n",
       "      <td>employee</td>\n",
       "      <td>table</td>\n",
       "    </tr>\n",
       "    <tr>\n",
       "      <th>4</th>\n",
       "      <td>genre</td>\n",
       "      <td>table</td>\n",
       "    </tr>\n",
       "    <tr>\n",
       "      <th>5</th>\n",
       "      <td>invoice</td>\n",
       "      <td>table</td>\n",
       "    </tr>\n",
       "    <tr>\n",
       "      <th>6</th>\n",
       "      <td>invoice_line</td>\n",
       "      <td>table</td>\n",
       "    </tr>\n",
       "    <tr>\n",
       "      <th>7</th>\n",
       "      <td>media_type</td>\n",
       "      <td>table</td>\n",
       "    </tr>\n",
       "    <tr>\n",
       "      <th>8</th>\n",
       "      <td>playlist</td>\n",
       "      <td>table</td>\n",
       "    </tr>\n",
       "    <tr>\n",
       "      <th>9</th>\n",
       "      <td>playlist_track</td>\n",
       "      <td>table</td>\n",
       "    </tr>\n",
       "    <tr>\n",
       "      <th>10</th>\n",
       "      <td>track</td>\n",
       "      <td>table</td>\n",
       "    </tr>\n",
       "  </tbody>\n",
       "</table>\n",
       "</div>"
      ],
      "text/plain": [
       "              name   type\n",
       "0            album  table\n",
       "1           artist  table\n",
       "2         customer  table\n",
       "3         employee  table\n",
       "4            genre  table\n",
       "5          invoice  table\n",
       "6     invoice_line  table\n",
       "7       media_type  table\n",
       "8         playlist  table\n",
       "9   playlist_track  table\n",
       "10           track  table"
      ]
     },
     "execution_count": 1,
     "metadata": {},
     "output_type": "execute_result"
    }
   ],
   "source": [
    "## Load in packages\n",
    "import numpy as np\n",
    "import pandas as pd\n",
    "import sqlite3\n",
    "import matplotlib.pyplot as plt\n",
    "%matplotlib inline\n",
    "\n",
    "#Short-cut for database\n",
    "db = \"chinook.db\"\n",
    "\n",
    "# Easily run our query\n",
    "def run_query(q):\n",
    "    with sqlite3.connect(db) as conn:\n",
    "        return pd.read_sql(q, conn)\n",
    "\n",
    "# Earily run our queries, but don't return pd table\n",
    "def run_command(c):\n",
    "    with sqlite3.connect(db) as conn:\n",
    "        conn.isolation_level = None\n",
    "        conn.execute(c)\n",
    "    \n",
    "# Display all the tables in the database and type\n",
    "def show_tables():\n",
    "    q = '''\n",
    "        SELECT\n",
    "            name,\n",
    "            type\n",
    "        FROM sqlite_master\n",
    "        WHERE type IN (\"table\",\"view\");\n",
    "        '''\n",
    "    return run_query(q)\n",
    "\n",
    "show_tables()"
   ]
  },
  {
   "cell_type": "markdown",
   "metadata": {},
   "source": [
    "## Problem: Determining Popular Genre's in the USA\n",
    "\n",
    "\"The Chinook record store has just signed a deal with a new record label, and you've been tasked with selecting the first three albums that will be added to the store, from a list of four. \n",
    "\n",
    "The record label specializes in artists from the USA, and have given Chinook some money to advertise the new albums in the USA.\"\n",
    "\n",
    "Here are the new Artist's and Genre from the new record label:\n",
    "\n",
    "<img src = \"NewRecord.jpg\">\n",
    "\n",
    "\n",
    "The goal then is to determine which genre's which sell best in the USA, since the new albums have no previous tracks (or other information) to indicate their potential popularity.\n",
    "\n",
    "This can be done by filtering for all sales in the USA, and then calculating the amount of tracks sold in each genre. With that done, a percentage of sales can be calculated and plotted.\n"
   ]
  },
  {
   "cell_type": "code",
   "execution_count": 2,
   "metadata": {
    "collapsed": false
   },
   "outputs": [
    {
     "data": {
      "text/html": [
       "<div>\n",
       "<style scoped>\n",
       "    .dataframe tbody tr th:only-of-type {\n",
       "        vertical-align: middle;\n",
       "    }\n",
       "\n",
       "    .dataframe tbody tr th {\n",
       "        vertical-align: top;\n",
       "    }\n",
       "\n",
       "    .dataframe thead th {\n",
       "        text-align: right;\n",
       "    }\n",
       "</style>\n",
       "<table border=\"1\" class=\"dataframe\">\n",
       "  <thead>\n",
       "    <tr style=\"text-align: right;\">\n",
       "      <th></th>\n",
       "      <th>name</th>\n",
       "      <th>quantity</th>\n",
       "      <th>percentage</th>\n",
       "    </tr>\n",
       "  </thead>\n",
       "  <tbody>\n",
       "    <tr>\n",
       "      <th>0</th>\n",
       "      <td>Rock</td>\n",
       "      <td>561</td>\n",
       "      <td>53.38</td>\n",
       "    </tr>\n",
       "    <tr>\n",
       "      <th>1</th>\n",
       "      <td>Alternative &amp; Punk</td>\n",
       "      <td>130</td>\n",
       "      <td>12.37</td>\n",
       "    </tr>\n",
       "    <tr>\n",
       "      <th>2</th>\n",
       "      <td>Metal</td>\n",
       "      <td>124</td>\n",
       "      <td>11.80</td>\n",
       "    </tr>\n",
       "    <tr>\n",
       "      <th>3</th>\n",
       "      <td>R&amp;B/Soul</td>\n",
       "      <td>53</td>\n",
       "      <td>5.04</td>\n",
       "    </tr>\n",
       "    <tr>\n",
       "      <th>4</th>\n",
       "      <td>Blues</td>\n",
       "      <td>36</td>\n",
       "      <td>3.43</td>\n",
       "    </tr>\n",
       "    <tr>\n",
       "      <th>5</th>\n",
       "      <td>Alternative</td>\n",
       "      <td>35</td>\n",
       "      <td>3.33</td>\n",
       "    </tr>\n",
       "    <tr>\n",
       "      <th>6</th>\n",
       "      <td>Latin</td>\n",
       "      <td>22</td>\n",
       "      <td>2.09</td>\n",
       "    </tr>\n",
       "    <tr>\n",
       "      <th>7</th>\n",
       "      <td>Pop</td>\n",
       "      <td>22</td>\n",
       "      <td>2.09</td>\n",
       "    </tr>\n",
       "    <tr>\n",
       "      <th>8</th>\n",
       "      <td>Hip Hop/Rap</td>\n",
       "      <td>20</td>\n",
       "      <td>1.90</td>\n",
       "    </tr>\n",
       "    <tr>\n",
       "      <th>9</th>\n",
       "      <td>Jazz</td>\n",
       "      <td>14</td>\n",
       "      <td>1.33</td>\n",
       "    </tr>\n",
       "  </tbody>\n",
       "</table>\n",
       "</div>"
      ],
      "text/plain": [
       "                 name  quantity  percentage\n",
       "0                Rock       561       53.38\n",
       "1  Alternative & Punk       130       12.37\n",
       "2               Metal       124       11.80\n",
       "3            R&B/Soul        53        5.04\n",
       "4               Blues        36        3.43\n",
       "5         Alternative        35        3.33\n",
       "6               Latin        22        2.09\n",
       "7                 Pop        22        2.09\n",
       "8         Hip Hop/Rap        20        1.90\n",
       "9                Jazz        14        1.33"
      ]
     },
     "execution_count": 2,
     "metadata": {},
     "output_type": "execute_result"
    }
   ],
   "source": [
    "query1 = '''\n",
    "        WITH \n",
    "            sales_info AS\n",
    "            (\n",
    "            SELECT\n",
    "                t.track_id,\n",
    "                il.quantity,\n",
    "                t.genre_id\n",
    "            FROM track AS t\n",
    "            INNER JOIN invoice_line AS il ON il.track_id = t.track_id\n",
    "            INNER JOIN invoice AS i ON i.invoice_id = il.invoice_id            \n",
    "            WHERE i.billing_country = \"USA\"           \n",
    "            ),\n",
    "            \n",
    "            genre_info AS\n",
    "            (\n",
    "            SELECT \n",
    "                g.name,\n",
    "                SUM(quantity) as quantity\n",
    "            FROM sales_info AS s\n",
    "            INNER JOIN genre AS g ON g.genre_id = s.genre_id\n",
    "            GROUP BY g.name\n",
    "            )\n",
    "            \n",
    "        SELECT\n",
    "            name,\n",
    "            quantity,\n",
    "            ROUND((100.0*quantity)/ (SELECT 1.0*SUM(quantity) FROM genre_info), 2) AS percentage\n",
    "        FROM genre_info\n",
    "        ORDER BY quantity DESC\n",
    "        LIMIT 10\n",
    "\n",
    "        '''\n",
    "\n",
    "top_genre_in_usa = run_query(query1)\n",
    "run_query(query1)"
   ]
  },
  {
   "cell_type": "code",
   "execution_count": 3,
   "metadata": {
    "collapsed": false
   },
   "outputs": [
    {
     "data": {
      "text/plain": [
       "<matplotlib.text.Text at 0x7f68d47e4e80>"
      ]
     },
     "execution_count": 3,
     "metadata": {},
     "output_type": "execute_result"
    },
    {
     "data": {
      "image/png": "[encoded data removed]",
      "text/plain": [
       "<matplotlib.figure.Figure at 0x7f68d4829438>"
      ]
     },
     "metadata": {},
     "output_type": "display_data"
    }
   ],
   "source": [
    "top_genre_in_usa.plot.bar(x=\"name\", y=\"percentage\", legend=False, colormap=plt.cm.Accent)\n",
    "plt.title(\"Top Selling Genres in the USA\")\n",
    "plt.ylabel(\"Percentage\")\n",
    "plt.xlabel(\"Genre\")\n"
   ]
  },
  {
   "cell_type": "raw",
   "metadata": {},
   "source": []
  },
  {
   "cell_type": "markdown",
   "metadata": {},
   "source": [
    "### Analysis\n",
    "\n",
    "Although it's easy to determine the information from the table above, the graph makes it clear which genres are the best selling (in that their tracks are sold most often).\n",
    "\n",
    "The top 4 genres are, from high to low:\n",
    "\n",
    "1. Rock\n",
    "2. Alternative & Punk\n",
    "3. Metal\n",
    "4. R&B / Soul\n",
    "\n",
    "After the top 4, the percentages are very tight and poorly distinguished. \n",
    "\n",
    "Concerning the new record label, from the four different artists we should select, in the following order:\n",
    "\n",
    "1. Red Tone\n",
    "2. Slim Jim Bites\n",
    "3. Meteor and the Girls\n",
    "4. *Regal (and so the artist, by this standard, should not choosen)\n",
    "\n",
    "## Problem: Reviewing Employee Performance\n",
    "\n",
    "\"Each customer for the Chinook store gets assigned to a sales support agent within the company when they first make a purchase. You have been asked to analyze the purchases of customers belonging to each employee to see if any sales support agent is performing either better or worse than the others.\"\n",
    "\n",
    "To goal is to identify employee performance, and review whatever information that exists within the database that might explain this performance.\n",
    "\n",
    "A good place to start for basic employee performance is to determine the amount of sales earned per employee.\n",
    "\n",
    "Factors to consider outside of this include:\n",
    "1. Bosses or who the employee reports to: Leadership is invaluable in a work environment\n",
    "2. Hire Data - If an employee is new, they will not have had the time to amount similiar sales compared with veteran employees\n",
    "\n"
   ]
  },
  {
   "cell_type": "code",
   "execution_count": 28,
   "metadata": {
    "collapsed": false
   },
   "outputs": [
    {
     "data": {
      "text/html": [
       "<div>\n",
       "<style scoped>\n",
       "    .dataframe tbody tr th:only-of-type {\n",
       "        vertical-align: middle;\n",
       "    }\n",
       "\n",
       "    .dataframe tbody tr th {\n",
       "        vertical-align: top;\n",
       "    }\n",
       "\n",
       "    .dataframe thead th {\n",
       "        text-align: right;\n",
       "    }\n",
       "</style>\n",
       "<table border=\"1\" class=\"dataframe\">\n",
       "  <thead>\n",
       "    <tr style=\"text-align: right;\">\n",
       "      <th></th>\n",
       "      <th>employee_name</th>\n",
       "      <th>sales</th>\n",
       "    </tr>\n",
       "  </thead>\n",
       "  <tbody>\n",
       "    <tr>\n",
       "      <th>0</th>\n",
       "      <td>Steve Johnson</td>\n",
       "      <td>1393.92</td>\n",
       "    </tr>\n",
       "    <tr>\n",
       "      <th>1</th>\n",
       "      <td>Margaret Park</td>\n",
       "      <td>1584.00</td>\n",
       "    </tr>\n",
       "    <tr>\n",
       "      <th>2</th>\n",
       "      <td>Jane Peacock</td>\n",
       "      <td>1731.51</td>\n",
       "    </tr>\n",
       "  </tbody>\n",
       "</table>\n",
       "</div>"
      ],
      "text/plain": [
       "   employee_name    sales\n",
       "0  Steve Johnson  1393.92\n",
       "1  Margaret Park  1584.00\n",
       "2   Jane Peacock  1731.51"
      ]
     },
     "execution_count": 28,
     "metadata": {},
     "output_type": "execute_result"
    }
   ],
   "source": [
    "query2 = '''\n",
    "        WITH \n",
    "        sales_info AS\n",
    "        (\n",
    "        SELECT\n",
    "            e.first_name || \" \" || e.last_name AS employee_name,\n",
    "            e.employee_id,\n",
    "            c.customer_id,\n",
    "            i.total\n",
    "        FROM employee AS e\n",
    "        INNER JOIN customer AS c ON c.support_rep_id = e.employee_id\n",
    "        INNER JOIN invoice AS i ON i.customer_id = c.customer_id\n",
    "        ),\n",
    "        \n",
    "        sales_perf AS\n",
    "        (\n",
    "        SELECT\n",
    "            employee_name,\n",
    "            SUM(total) sales\n",
    "        FROM sales_info AS s\n",
    "        GROUP BY employee_name\n",
    "        ORDER BY sales\n",
    "        )\n",
    "\n",
    "        SELECT * FROM sales_perf\n",
    "\n",
    "        '''\n",
    "    \n",
    "sales_performance = run_query(query2)\n",
    "run_query(query2)\n"
   ]
  },
  {
   "cell_type": "code",
   "execution_count": 29,
   "metadata": {
    "collapsed": false
   },
   "outputs": [
    {
     "data": {
      "text/plain": [
       "<matplotlib.text.Text at 0x7f68d2344630>"
      ]
     },
     "execution_count": 29,
     "metadata": {},
     "output_type": "execute_result"
    },
    {
     "data": {
      "image/png": "[encoded data removed]",
      "text/plain": [
       "<matplotlib.figure.Figure at 0x7f68d21052b0>"
      ]
     },
     "metadata": {},
     "output_type": "display_data"
    }
   ],
   "source": [
    "sales_performance.plot.barh(x=\"employee_name\", y=\"sales\",\n",
    "                           title=\"Employee Sales Performance\",\n",
    "                            legend=False,\n",
    "                            colormap=plt.cm.Accent)\n",
    "plt.xlabel(\"Sales in USD\")\n",
    "plt.ylabel(\"Employee\")"
   ]
  },
  {
   "cell_type": "markdown",
   "metadata": {
    "collapsed": true
   },
   "source": [
    "From the sales performance, it's clear that Jane Peacock has the highest amount of sales out of the three employees, and Steve Johnson has the lowest. \n",
    "\n",
    "I'll check the start date of each employee to see if this has any relevance to their scores. Lower sales can be understood if the employee has a corresponding work start date."
   ]
  },
  {
   "cell_type": "code",
   "execution_count": 35,
   "metadata": {
    "collapsed": false
   },
   "outputs": [
    {
     "data": {
      "text/html": [
       "<div>\n",
       "<style scoped>\n",
       "    .dataframe tbody tr th:only-of-type {\n",
       "        vertical-align: middle;\n",
       "    }\n",
       "\n",
       "    .dataframe tbody tr th {\n",
       "        vertical-align: top;\n",
       "    }\n",
       "\n",
       "    .dataframe thead th {\n",
       "        text-align: right;\n",
       "    }\n",
       "</style>\n",
       "<table border=\"1\" class=\"dataframe\">\n",
       "  <thead>\n",
       "    <tr style=\"text-align: right;\">\n",
       "      <th></th>\n",
       "      <th>employee_name</th>\n",
       "      <th>hire_date</th>\n",
       "    </tr>\n",
       "  </thead>\n",
       "  <tbody>\n",
       "    <tr>\n",
       "      <th>0</th>\n",
       "      <td>Jane Peacock</td>\n",
       "      <td>2017-04-01 00:00:00</td>\n",
       "    </tr>\n",
       "    <tr>\n",
       "      <th>1</th>\n",
       "      <td>Margaret Park</td>\n",
       "      <td>2017-05-03 00:00:00</td>\n",
       "    </tr>\n",
       "    <tr>\n",
       "      <th>2</th>\n",
       "      <td>Steve Johnson</td>\n",
       "      <td>2017-10-17 00:00:00</td>\n",
       "    </tr>\n",
       "  </tbody>\n",
       "</table>\n",
       "</div>"
      ],
      "text/plain": [
       "   employee_name            hire_date\n",
       "0   Jane Peacock  2017-04-01 00:00:00\n",
       "1  Margaret Park  2017-05-03 00:00:00\n",
       "2  Steve Johnson  2017-10-17 00:00:00"
      ]
     },
     "execution_count": 35,
     "metadata": {},
     "output_type": "execute_result"
    }
   ],
   "source": [
    "query2b = '''\n",
    "        WITH\n",
    "        sales_info AS\n",
    "        (\n",
    "        SELECT\n",
    "            e.first_name || \" \" || e.last_name AS employee_name,\n",
    "            e.employee_id,\n",
    "            c.customer_id,\n",
    "            i.total,\n",
    "            e.hire_date\n",
    "        FROM employee AS e\n",
    "        INNER JOIN customer AS c ON c.support_rep_id = e.employee_id\n",
    "        INNER JOIN invoice AS i ON i.customer_id = c.customer_id\n",
    "        GROUP BY employee_name\n",
    "        )\n",
    "        \n",
    "        SELECT\n",
    "            employee_name,\n",
    "            hire_date\n",
    "        FROM sales_info\n",
    "                \n",
    "        '''\n",
    "run_query(query2b)\n"
   ]
  },
  {
   "cell_type": "markdown",
   "metadata": {},
   "source": [
    "There appears to be a correlation between the date when employees were hired, and the total sales they have brought into the company.\n",
    "\n",
    "Jane Peacock was hired earliest, on April 1st, 2017 whereas Steve Johnson was hired last, on October 17th, 2017. This time discrepancy might be the biggest factor in the difference in sales performance."
   ]
  },
  {
   "cell_type": "code",
   "execution_count": null,
   "metadata": {
    "collapsed": true
   },
   "outputs": [],
   "source": []
  },
  {
   "cell_type": "code",
   "execution_count": null,
   "metadata": {
    "collapsed": true
   },
   "outputs": [],
   "source": []
  }
 ],
 "metadata": {
  "kernelspec": {
   "display_name": "Python 3",
   "language": "python",
   "name": "python3"
  },
  "language_info": {
   "codemirror_mode": {
    "name": "ipython",
    "version": 3
   },
   "file_extension": ".py",
   "mimetype": "text/x-python",
   "name": "python",
   "nbconvert_exporter": "python",
   "pygments_lexer": "ipython3",
   "version": "3.4.3"
  }
 },
 "nbformat": 4,
 "nbformat_minor": 2
}
