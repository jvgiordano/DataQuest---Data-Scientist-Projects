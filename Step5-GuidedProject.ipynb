{
 "cells": [
  {
   "cell_type": "markdown",
   "metadata": {
    "collapsed": true
   },
   "source": [
    "# Popular Data Science Questions # \n",
    "\n",
    "## Introduction ##\n",
    "This is my 11th Data Science Project in the Data Scientist Pathway of Dataquest. In this project I will be undergoing the following scenario:\n",
    "\n",
    "\"I'm working for a company that creates data science content, be it books, online articles, videos or interactive text-based platforms like Dataquest.\n",
    "\n",
    "The task is to figure oute what is 'best' content to write about.\"\n",
    "\n",
    "To answer this question, I will be starting by using information from the group of online websites which belong to Stack Exchange. Stack Exchange websites cover topics such as programming, mathematics, philosophy, and more. An one of their websites, Data Science Stack Exchange, covers data science questions. These websites function as boards in which members can post questions, ranging from beginner to advanced topics, in order to find answers which may not be easily answered or explained.  \n",
    "\n",
    "Each post (or question) from a member has it's own tags which identify the material it concerns, such as \"machine learning\" or \"python\". The posts also show how many views and responses it has received, and importantly how many votes. Votes indicate to what extent other members find the post of interest. \n",
    "\n",
    "Using the Stack Exchange Data Explorer [SEDE](https://data.stackexchange.com/datascience/query/new) allows for using SQL  (Transact-SQL) exploration of the sites public data base. This means posts can be sorted and checked by scores, titles and tags. The most promising tables appears to be 'Posts', followed by 'Comments'. Looking at Posts will show what questions members find the most important, or which questions are asked most. Examining comments will show what comments are valued highest and can indicate type of information (basic vs in-depth) as well as topics.\n",
    "\n",
    "## First Search ##\n",
    "\n",
    "Our first SQL search is as follows:\n",
    "\n",
    "SELECT ID, PostTypeID, CreationDate, Score, ViewCount, Tags, AnswerCount, FavoriteCount\n",
    "  FROM posts\n",
    "  WHERE PostTypeId = 1 and Year(CreationDate) = 2019\n",
    "\n",
    "  \n",
    "This isolates questions from 2019, and selects posts which are questions. From this query we are able to save the results to a CSV called \"2019_questions.csv\". With this database, we can now use the Pandas library in Python to examine it further.\n"
   ]
  },
  {
   "cell_type": "code",
   "execution_count": 1,
   "metadata": {
    "collapsed": true
   },
   "outputs": [],
   "source": [
    "#Load Packages\n",
    "import pandas as pd\n",
    "import matplotlib.pyplot as plt\n",
    "%matplotlib inline\n",
    "import seaborn as sns\n",
    "\n",
    "questions = pd.read_csv(\"2019_questions.csv\", parse_dates=[\"CreationDate\"])\n"
   ]
  },
  {
   "cell_type": "code",
   "execution_count": 2,
   "metadata": {
    "collapsed": false
   },
   "outputs": [
    {
     "name": "stdout",
     "output_type": "stream",
     "text": [
      "<class 'pandas.core.frame.DataFrame'>\n",
      "RangeIndex: 8839 entries, 0 to 8838\n",
      "Data columns (total 7 columns):\n",
      "Id               8839 non-null int64\n",
      "CreationDate     8839 non-null datetime64[ns]\n",
      "Score            8839 non-null int64\n",
      "ViewCount        8839 non-null int64\n",
      "Tags             8839 non-null object\n",
      "AnswerCount      8839 non-null int64\n",
      "FavoriteCount    1407 non-null float64\n",
      "dtypes: datetime64[ns](1), float64(1), int64(4), object(1)\n",
      "memory usage: 483.5+ KB\n"
     ]
    }
   ],
   "source": [
    "questions.info()"
   ]
  },
  {
   "cell_type": "markdown",
   "metadata": {},
   "source": [
    "From the above, we can see that every column has values except for \"FavoriteCount\" which has many missing values. This column signifies whether a user \"favorited\" a post, making it easier to re-access for themselves. Missing values indicate that no member favorited the post and so these missing values can be replaced with \"0\"."
   ]
  },
  {
   "cell_type": "code",
   "execution_count": 3,
   "metadata": {
    "collapsed": true
   },
   "outputs": [],
   "source": [
    "questions = questions.fillna(0)"
   ]
  },
  {
   "cell_type": "markdown",
   "metadata": {},
   "source": [
    "Above, it can also be noted that \"Tags\" are described as an \"object\" variable. We can see what this means:"
   ]
  },
  {
   "cell_type": "code",
   "execution_count": 4,
   "metadata": {
    "collapsed": false
   },
   "outputs": [
    {
     "data": {
      "text/plain": [
       "0                      <machine-learning><data-mining>\n",
       "1    <machine-learning><regression><linear-regressi...\n",
       "2         <python><time-series><forecast><forecasting>\n",
       "3                <machine-learning><scikit-learn><pca>\n",
       "4             <dataset><bigdata><data><speech-to-text>\n",
       "Name: Tags, dtype: object"
      ]
     },
     "execution_count": 4,
     "metadata": {},
     "output_type": "execute_result"
    }
   ],
   "source": [
    "questions[\"Tags\"].head()"
   ]
  },
  {
   "cell_type": "markdown",
   "metadata": {},
   "source": [
    "Above the tags are in the format of: <Tag1><Tag2><Tag3>...\n",
    "\n",
    "This format isn't convenient, but the lines can be converted into a list of strings."
   ]
  },
  {
   "cell_type": "code",
   "execution_count": 5,
   "metadata": {
    "collapsed": false
   },
   "outputs": [
    {
     "data": {
      "text/plain": [
       "0                      [machine-learning, data-mining]\n",
       "1    [machine-learning, regression, linear-regressi...\n",
       "2         [python, time-series, forecast, forecasting]\n",
       "3                [machine-learning, scikit-learn, pca]\n",
       "4             [dataset, bigdata, data, speech-to-text]\n",
       "Name: Tags, dtype: object"
      ]
     },
     "execution_count": 5,
     "metadata": {},
     "output_type": "execute_result"
    }
   ],
   "source": [
    "questions[\"Tags\"] = questions[\"Tags\"].str.replace(\"><\", \",\").str.replace(\"<|>\", \"\").str.split(\",\")\n",
    "questions[\"Tags\"].head()"
   ]
  },
  {
   "cell_type": "markdown",
   "metadata": {
    "collapsed": true
   },
   "source": [
    "Now that the tags have been seperated in lists, we can begin to examine the data for what we're looking for.\n",
    "\n",
    "First, the tags can be tallied so as to determine how many times each tag was used. This will give a sense of how popular a topic is.\n",
    "\n",
    "Next, we can take the views for each post, and identify how many times a tag was viewed to a connected post. This will better identify what tags are popular as it won't simply be how many posts are created with these tags, but how much interest it derives.\n"
   ]
  },
  {
   "cell_type": "code",
   "execution_count": 6,
   "metadata": {
    "collapsed": false
   },
   "outputs": [],
   "source": [
    "tag_counter = dict()\n",
    "\n",
    "for tag_list in questions[\"Tags\"]:\n",
    "    for tag in tag_list:\n",
    "        if tag in tag_counter:\n",
    "            tag_counter[tag] += 1\n",
    "        else:\n",
    "            tag_counter[tag] = 1"
   ]
  },
  {
   "cell_type": "code",
   "execution_count": 7,
   "metadata": {
    "collapsed": false
   },
   "outputs": [
    {
     "data": {
      "text/plain": [
       "526"
      ]
     },
     "execution_count": 7,
     "metadata": {},
     "output_type": "execute_result"
    }
   ],
   "source": [
    "len(tag_counter)\n",
    "\n"
   ]
  },
  {
   "cell_type": "markdown",
   "metadata": {},
   "source": [
    "Above we see that there are 526 tags. If we were to plot a histogram, there would be too many tags to look at. See we are interested in popularity, it is possible to identify the top 15 tags."
   ]
  },
  {
   "cell_type": "code",
   "execution_count": 8,
   "metadata": {
    "collapsed": false
   },
   "outputs": [
    {
     "data": {
      "text/html": [
       "<div>\n",
       "<style scoped>\n",
       "    .dataframe tbody tr th:only-of-type {\n",
       "        vertical-align: middle;\n",
       "    }\n",
       "\n",
       "    .dataframe tbody tr th {\n",
       "        vertical-align: top;\n",
       "    }\n",
       "\n",
       "    .dataframe thead th {\n",
       "        text-align: right;\n",
       "    }\n",
       "</style>\n",
       "<table border=\"1\" class=\"dataframe\">\n",
       "  <thead>\n",
       "    <tr style=\"text-align: right;\">\n",
       "      <th></th>\n",
       "      <th>Count</th>\n",
       "    </tr>\n",
       "  </thead>\n",
       "  <tbody>\n",
       "    <tr>\n",
       "      <th>machine-learning</th>\n",
       "      <td>2693</td>\n",
       "    </tr>\n",
       "    <tr>\n",
       "      <th>python</th>\n",
       "      <td>1814</td>\n",
       "    </tr>\n",
       "    <tr>\n",
       "      <th>deep-learning</th>\n",
       "      <td>1220</td>\n",
       "    </tr>\n",
       "    <tr>\n",
       "      <th>neural-network</th>\n",
       "      <td>1055</td>\n",
       "    </tr>\n",
       "    <tr>\n",
       "      <th>keras</th>\n",
       "      <td>935</td>\n",
       "    </tr>\n",
       "    <tr>\n",
       "      <th>classification</th>\n",
       "      <td>685</td>\n",
       "    </tr>\n",
       "    <tr>\n",
       "      <th>tensorflow</th>\n",
       "      <td>584</td>\n",
       "    </tr>\n",
       "    <tr>\n",
       "      <th>scikit-learn</th>\n",
       "      <td>540</td>\n",
       "    </tr>\n",
       "    <tr>\n",
       "      <th>nlp</th>\n",
       "      <td>493</td>\n",
       "    </tr>\n",
       "    <tr>\n",
       "      <th>cnn</th>\n",
       "      <td>489</td>\n",
       "    </tr>\n",
       "    <tr>\n",
       "      <th>time-series</th>\n",
       "      <td>466</td>\n",
       "    </tr>\n",
       "    <tr>\n",
       "      <th>lstm</th>\n",
       "      <td>402</td>\n",
       "    </tr>\n",
       "    <tr>\n",
       "      <th>pandas</th>\n",
       "      <td>354</td>\n",
       "    </tr>\n",
       "    <tr>\n",
       "      <th>regression</th>\n",
       "      <td>347</td>\n",
       "    </tr>\n",
       "    <tr>\n",
       "      <th>dataset</th>\n",
       "      <td>340</td>\n",
       "    </tr>\n",
       "  </tbody>\n",
       "</table>\n",
       "</div>"
      ],
      "text/plain": [
       "                  Count\n",
       "machine-learning   2693\n",
       "python             1814\n",
       "deep-learning      1220\n",
       "neural-network     1055\n",
       "keras               935\n",
       "classification      685\n",
       "tensorflow          584\n",
       "scikit-learn        540\n",
       "nlp                 493\n",
       "cnn                 489\n",
       "time-series         466\n",
       "lstm                402\n",
       "pandas              354\n",
       "regression          347\n",
       "dataset             340"
      ]
     },
     "execution_count": 8,
     "metadata": {},
     "output_type": "execute_result"
    }
   ],
   "source": [
    "tag_count = pd.DataFrame.from_dict(tag_counter, orient=\"index\")\n",
    "tag_count.rename(columns={0: \"Count\"}, inplace=True)\n",
    "tag_count.sort_values(by=\"Count\", inplace=True, ascending=False)\n",
    "top_15_tc = tag_count.head(15)\n",
    "top_15_tc\n"
   ]
  },
  {
   "cell_type": "code",
   "execution_count": 9,
   "metadata": {
    "collapsed": false
   },
   "outputs": [
    {
     "data": {
      "text/plain": [
       "(array([ 0,  1,  2,  3,  4,  5,  6,  7,  8,  9, 10, 11, 12, 13, 14]),\n",
       " <a list of 15 Text xticklabel objects>)"
      ]
     },
     "execution_count": 9,
     "metadata": {},
     "output_type": "execute_result"
    },
    {
     "data": {
      "image/png": "[encoded data removed]",
      "text/plain": [
       "<matplotlib.figure.Figure at 0x7fca813de080>"
      ]
     },
     "metadata": {},
     "output_type": "display_data"
    }
   ],
   "source": [
    "top_15_tc.plot.bar()\n",
    "plt.xticks(rotation=70)\n"
   ]
  },
  {
   "cell_type": "markdown",
   "metadata": {
    "collapsed": true
   },
   "source": [
    "Now it's time to examine the views per tag\n"
   ]
  },
  {
   "cell_type": "code",
   "execution_count": 14,
   "metadata": {
    "collapsed": false
   },
   "outputs": [
    {
     "data": {
      "text/html": [
       "<div>\n",
       "<style scoped>\n",
       "    .dataframe tbody tr th:only-of-type {\n",
       "        vertical-align: middle;\n",
       "    }\n",
       "\n",
       "    .dataframe tbody tr th {\n",
       "        vertical-align: top;\n",
       "    }\n",
       "\n",
       "    .dataframe thead th {\n",
       "        text-align: right;\n",
       "    }\n",
       "</style>\n",
       "<table border=\"1\" class=\"dataframe\">\n",
       "  <thead>\n",
       "    <tr style=\"text-align: right;\">\n",
       "      <th></th>\n",
       "      <th>Count</th>\n",
       "    </tr>\n",
       "  </thead>\n",
       "  <tbody>\n",
       "    <tr>\n",
       "      <th>python</th>\n",
       "      <td>537585</td>\n",
       "    </tr>\n",
       "    <tr>\n",
       "      <th>machine-learning</th>\n",
       "      <td>388499</td>\n",
       "    </tr>\n",
       "    <tr>\n",
       "      <th>keras</th>\n",
       "      <td>268608</td>\n",
       "    </tr>\n",
       "    <tr>\n",
       "      <th>deep-learning</th>\n",
       "      <td>233628</td>\n",
       "    </tr>\n",
       "    <tr>\n",
       "      <th>pandas</th>\n",
       "      <td>201787</td>\n",
       "    </tr>\n",
       "    <tr>\n",
       "      <th>neural-network</th>\n",
       "      <td>185367</td>\n",
       "    </tr>\n",
       "    <tr>\n",
       "      <th>scikit-learn</th>\n",
       "      <td>128110</td>\n",
       "    </tr>\n",
       "    <tr>\n",
       "      <th>tensorflow</th>\n",
       "      <td>121369</td>\n",
       "    </tr>\n",
       "    <tr>\n",
       "      <th>classification</th>\n",
       "      <td>104457</td>\n",
       "    </tr>\n",
       "    <tr>\n",
       "      <th>dataframe</th>\n",
       "      <td>89352</td>\n",
       "    </tr>\n",
       "    <tr>\n",
       "      <th>lstm</th>\n",
       "      <td>74458</td>\n",
       "    </tr>\n",
       "    <tr>\n",
       "      <th>nlp</th>\n",
       "      <td>71382</td>\n",
       "    </tr>\n",
       "    <tr>\n",
       "      <th>cnn</th>\n",
       "      <td>70349</td>\n",
       "    </tr>\n",
       "    <tr>\n",
       "      <th>time-series</th>\n",
       "      <td>64134</td>\n",
       "    </tr>\n",
       "    <tr>\n",
       "      <th>numpy</th>\n",
       "      <td>49767</td>\n",
       "    </tr>\n",
       "  </tbody>\n",
       "</table>\n",
       "</div>"
      ],
      "text/plain": [
       "                   Count\n",
       "python            537585\n",
       "machine-learning  388499\n",
       "keras             268608\n",
       "deep-learning     233628\n",
       "pandas            201787\n",
       "neural-network    185367\n",
       "scikit-learn      128110\n",
       "tensorflow        121369\n",
       "classification    104457\n",
       "dataframe          89352\n",
       "lstm               74458\n",
       "nlp                71382\n",
       "cnn                70349\n",
       "time-series        64134\n",
       "numpy              49767"
      ]
     },
     "execution_count": 14,
     "metadata": {},
     "output_type": "execute_result"
    }
   ],
   "source": [
    "tag_counter_view = dict()\n",
    "\n",
    "for index, row in questions.iterrows():\n",
    "    for tag in row[\"Tags\"]:\n",
    "        if tag in tag_counter_view:\n",
    "            tag_counter_view[tag] += row[\"ViewCount\"]\n",
    "        else:\n",
    "            tag_counter_view[tag] = row[\"ViewCount\"]\n",
    "            \n",
    "tag_counter_view = pd.DataFrame().from_dict(tag_counter_view, orient=\"index\")\n",
    "tag_counter_view.rename(columns={0: \"Count\"}, inplace=True)\n",
    "tag_counter_view.sort_values(by=\"Count\", inplace=True, ascending=False)\n",
    "top_15_tc_view = tag_counter_view.head(15)\n",
    "top_15_tc_view\n"
   ]
  },
  {
   "cell_type": "code",
   "execution_count": 15,
   "metadata": {
    "collapsed": false
   },
   "outputs": [
    {
     "data": {
      "text/plain": [
       "(array([ 0,  1,  2,  3,  4,  5,  6,  7,  8,  9, 10, 11, 12, 13, 14]),\n",
       " <a list of 15 Text xticklabel objects>)"
      ]
     },
     "execution_count": 15,
     "metadata": {},
     "output_type": "execute_result"
    },
    {
     "data": {
      "image/png": "[encoded data removed]",
      "text/plain": [
       "<matplotlib.figure.Figure at 0x7fca80f17c50>"
      ]
     },
     "metadata": {},
     "output_type": "display_data"
    }
   ],
   "source": [
    "top_15_tc_view.plot.bar()\n",
    "plt.xticks(rotation=70)"
   ]
  },
  {
   "cell_type": "code",
   "execution_count": null,
   "metadata": {
    "collapsed": true
   },
   "outputs": [],
   "source": []
  }
 ],
 "metadata": {
  "kernelspec": {
   "display_name": "Python 3",
   "language": "python",
   "name": "python3"
  },
  "language_info": {
   "codemirror_mode": {
    "name": "ipython",
    "version": 3
   },
   "file_extension": ".py",
   "mimetype": "text/x-python",
   "name": "python",
   "nbconvert_exporter": "python",
   "pygments_lexer": "ipython3",
   "version": "3.4.3"
  }
 },
 "nbformat": 4,
 "nbformat_minor": 2
}
